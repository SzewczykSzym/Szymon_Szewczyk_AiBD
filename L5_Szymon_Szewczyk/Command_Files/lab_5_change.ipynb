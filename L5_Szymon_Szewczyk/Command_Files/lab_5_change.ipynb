{
 "cells": [
  {
   "cell_type": "markdown",
   "metadata": {},
   "source": [
    "## Changes"
   ]
  },
  {
   "cell_type": "code",
   "execution_count": 50,
   "metadata": {},
   "outputs": [],
   "source": [
    "import pandas as pd\n",
    "\n",
    "data_1 = pd.read_csv(\"../Original_Data/drinks.csv\")\n",
    "data_2 = pd.read_csv(\"../Original_Data/drinks.csv\")\n",
    "\n",
    "data_1 = data_1[data_1.total_litres_of_pure_alcohol != 0]\n",
    "data_1 = data_1.reset_index(drop=True)\n",
    "# data_1\n",
    "\n",
    "data_2 = data_2[data_2.beer_servings > 0]\n",
    "data_2 = data_2[data_2.spirit_servings > 0]\n",
    "data_2 = data_2[data_2.wine_servings > 0]\n",
    "data_2 = data_2.reset_index(drop=True)\n",
    "# data_2\n",
    "\n",
    "data_1.to_csv(path_or_buf=f\"../Analysis_Data/at_least_one_drink.csv\", index=False)\n",
    "data_2.to_csv(path_or_buf=f\"../Analysis_Data/every_one_drink.csv\", index=False)"
   ]
  }
 ],
 "metadata": {
  "kernelspec": {
   "display_name": "Python 3.9.2 64-bit",
   "language": "python",
   "name": "python3"
  },
  "language_info": {
   "codemirror_mode": {
    "name": "ipython",
    "version": 3
   },
   "file_extension": ".py",
   "mimetype": "text/x-python",
   "name": "python",
   "nbconvert_exporter": "python",
   "pygments_lexer": "ipython3",
   "version": "3.9.2"
  },
  "orig_nbformat": 4,
  "vscode": {
   "interpreter": {
    "hash": "a7ccfb54ddfe2a60b2811b4a0a705febf644bc08b117874e044decac7ff2771b"
   }
  }
 },
 "nbformat": 4,
 "nbformat_minor": 2
}
